{
 "cells": [
  {
   "cell_type": "markdown",
   "id": "c31eb65f-8cf8-4c59-b741-bb7541a377a4",
   "metadata": {},
   "source": [
    "# <u>**Kaggle Competitions: House Price - Prediction**</u>"
   ]
  },
  {
   "cell_type": "markdown",
   "id": "85243a0c-8c69-41b9-b5e3-5e3855b81207",
   "metadata": {},
   "source": [
    "## <span style = 'color: red'>**Importing Stage**</span>"
   ]
  },
  {
   "cell_type": "code",
   "execution_count": 10,
   "id": "5502e4da-3f5b-4c73-8efa-2135e2fd9c27",
   "metadata": {},
   "outputs": [],
   "source": [
    "# for importing model\n",
    "import joblib\n",
    "# for inputing csv file into DataFrame\n",
    "import pandas as pd\n",
    "# for calculating exponential value\n",
    "import numpy as np\n",
    "# CWD\n",
    "import sys, os"
   ]
  },
  {
   "cell_type": "markdown",
   "id": "408710ae-a2f1-4619-bccd-937dc6d248e2",
   "metadata": {},
   "source": [
    "### <span style = 'color: yellow'>**a) get current working directory and project root**</span>"
   ]
  },
  {
   "cell_type": "code",
   "execution_count": 11,
   "id": "d9dd02f8-ac6a-4f50-8a02-fb9bdae62b0d",
   "metadata": {},
   "outputs": [],
   "source": [
    "project_root = os.path.abspath(os.path.join(os.getcwd(), '..'))\n",
    "sys.path.append(project_root)"
   ]
  },
  {
   "cell_type": "markdown",
   "id": "fa8c3acc-4409-4a60-b60f-81bba4d1ab64",
   "metadata": {},
   "source": [
    "### <span style = 'color: yellow'>**b) Importing Feature Engineering Function**</span>"
   ]
  },
  {
   "cell_type": "code",
   "execution_count": 12,
   "id": "5940b88e-7173-41b6-8e03-dcebe1ec8bbe",
   "metadata": {},
   "outputs": [],
   "source": [
    "# feature engineering\n",
    "from scripts.Kaggle_HousePrice_Pipeline import feature_engineering"
   ]
  },
  {
   "cell_type": "markdown",
   "id": "b10e8f6d-6e02-4630-828b-3ad60969a3fc",
   "metadata": {},
   "source": [
    "## <span style = 'color: red'>**Best Model**</span>"
   ]
  },
  {
   "cell_type": "code",
   "execution_count": 13,
   "id": "5828e957-0ea8-4382-8df2-e596819da274",
   "metadata": {},
   "outputs": [],
   "source": [
    "best_model = joblib.load('../models/best_model.pkl')"
   ]
  },
  {
   "cell_type": "markdown",
   "id": "501c5607-5fc3-4741-80c7-baf48d245288",
   "metadata": {},
   "source": [
    "## <span style = 'color: red'>**Test Data**</span>"
   ]
  },
  {
   "cell_type": "code",
   "execution_count": 14,
   "id": "c03c3927-c1ad-42c3-a668-4e8ce95e55c0",
   "metadata": {},
   "outputs": [],
   "source": [
    "test_data = pd.read_csv('../data/test.csv')\n",
    "df = test_data.copy()"
   ]
  },
  {
   "cell_type": "markdown",
   "id": "5e83c3d4-a825-43c0-bb77-121aef2ac1cb",
   "metadata": {},
   "source": [
    "### <span style = 'color: yellow'>**Feature Engineering on Test Data**</span>"
   ]
  },
  {
   "cell_type": "code",
   "execution_count": 15,
   "id": "026fe1db-247e-4575-aeef-4c6cdd42967f",
   "metadata": {},
   "outputs": [],
   "source": [
    "df = feature_engineering(df)"
   ]
  },
  {
   "cell_type": "markdown",
   "id": "648a35d7-b0c6-44f8-8b56-b5a96a8f9f87",
   "metadata": {},
   "source": [
    "## <span style = 'color: red'>**Prediction**</span>"
   ]
  },
  {
   "cell_type": "code",
   "execution_count": 17,
   "id": "768b6014-0cb8-47a3-94a1-c37af07a4cdc",
   "metadata": {},
   "outputs": [
    {
     "name": "stdout",
     "output_type": "stream",
     "text": [
      "Submission is ready!\n"
     ]
    }
   ],
   "source": [
    "# prediction on test csv file\n",
    "y_pred_log = best_model.predict(df)\n",
    "\n",
    "# create the submission DataFrame\n",
    "submission_df = pd.DataFrame({\n",
    "    'Id': test_data['Id'],\n",
    "    'SalePrice': np.expm1(y_pred_log)\n",
    "})\n",
    "# save to csv file\n",
    "submission_df.to_csv('../submissions/house_price_submission_SammiWang.csv', index = False)\n",
    "print('Submission is ready!')"
   ]
  },
  {
   "cell_type": "code",
   "execution_count": 18,
   "id": "d8135a19-03f9-4bec-bcc3-bf6bf1bf3d17",
   "metadata": {},
   "outputs": [
    {
     "data": {
      "text/plain": [
       "Id           0\n",
       "SalePrice    0\n",
       "dtype: int64"
      ]
     },
     "execution_count": 18,
     "metadata": {},
     "output_type": "execute_result"
    }
   ],
   "source": [
    "submission_df.isna().sum()"
   ]
  }
 ],
 "metadata": {
  "kernelspec": {
   "display_name": "Python 3 (ipykernel)",
   "language": "python",
   "name": "python3"
  },
  "language_info": {
   "codemirror_mode": {
    "name": "ipython",
    "version": 3
   },
   "file_extension": ".py",
   "mimetype": "text/x-python",
   "name": "python",
   "nbconvert_exporter": "python",
   "pygments_lexer": "ipython3",
   "version": "3.13.7"
  }
 },
 "nbformat": 4,
 "nbformat_minor": 5
}
